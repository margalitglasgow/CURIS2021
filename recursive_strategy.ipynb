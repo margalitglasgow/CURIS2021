{
 "cells": [
  {
   "cell_type": "code",
   "execution_count": 4,
   "metadata": {},
   "outputs": [],
   "source": [
    "import recursive_strategy as rs\n",
    "import graphs\n",
    "import numpy as np\n",
    "import matplotlib.pyplot as plt \n",
    "\n",
    "InfectedNodes = 1\n",
    "N = 100\n",
    "M = 400\n",
    "numTrials = 50\n",
    "transmissionRate = 0.5\n",
    "initial_rec = 0.01\n",
    "budgets = np.arange(0, 260, 10)\n",
    "gaps = np.arange(0.5, 3, 2)\n",
    "boundaries = np.arange(0.5, 3, 2)\n",
    "\n",
    "Y2 = []\n",
    "graph = graphs.erdos_renyi_graph(N, M)\n",
    "for budget in budgets:\n",
    "    Y2.append(rs.calculateDegreeInfection(InfectedNodes, graph, N, numTrials, transmissionRate, initial_rec, budget))\n",
    "\n",
    "plt.plot(budgets, Y2, label=\"Degree Proportional Strategy\")\n",
    "\n",
    "for gap_threshold in gaps:\n",
    "    for boundary_threshold in boundaries:\n",
    "        Y1 = []\n",
    "        for budget in budgets:\n",
    "            Y1.append(rs.calculateRecInfection(InfectedNodes, graph, N, numTrials, transmissionRate, initial_rec, budget, gap_threshold, boundary_threshold))    \n",
    "        plt.plot(budgets, Y1, label=\"Boundary \" + str(boundary_threshold) + \" Gap: \" + str(gap_threshold))\n",
    "        print('a')\n",
    "\n",
    "\n",
    "\n",
    "\n",
    "plt.legend()\n",
    "plt.xlabel('Budget')\n",
    "plt.ylabel('Infection Size')\n",
    "plt.title(\"Erdos Renyi N=100 M=400\")"
   ]
  }
 ],
 "metadata": {
  "interpreter": {
   "hash": "aee8b7b246df8f9039afb4144a1f6fd8d2ca17a180786b69acc140d282b71a49"
  },
  "kernelspec": {
   "display_name": "Python 3.8.1 64-bit",
   "name": "python3"
  },
  "language_info": {
   "codemirror_mode": {
    "name": "ipython",
    "version": 3
   },
   "file_extension": ".py",
   "mimetype": "text/x-python",
   "name": "python",
   "nbconvert_exporter": "python",
   "pygments_lexer": "ipython3",
   "version": "3.8.1"
  },
  "orig_nbformat": 4
 },
 "nbformat": 4,
 "nbformat_minor": 2
}
